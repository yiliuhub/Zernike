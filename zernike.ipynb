{
 "cells": [
  {
   "cell_type": "code",
   "execution_count": 2,
   "metadata": {},
   "outputs": [],
   "source": [
    "import numpy as np\n",
    "import torch"
   ]
  },
  {
   "cell_type": "code",
   "execution_count": 39,
   "metadata": {},
   "outputs": [],
   "source": [
    "class Zernike:\n",
    "    def __init__(self, order=6, \n",
    "                 locxy=torch.tensor([], dtype=torch.float32, requires_grad=True), \n",
    "                 deltaxy=torch.tensor([], dtype=torch.float32, requires_grad=True)):\n",
    "        self.order = order \n",
    "        self.locxy = locxy.clone().detach() # torch.tensor(locxy, dtype=torch.float32, requires_grad=True)\n",
    "        self.deltaxy = deltaxy.clone().detach() #torch.tensor(deltaxy, dtype=torch.float32, requires_grad=True)\n",
    "        \n",
    "    def poly(self, powerx, powery, x, y):\n",
    "        return (x**powerx) * (y**powery)\n",
    "\n",
    "    def poly_dx(self, powerx, powery, x, y):\n",
    "        if powerx < 1:\n",
    "            return 0.0\n",
    "        else:\n",
    "            return powerx * self.poly(powerx-1, powery, x, y)\n",
    "\n",
    "    def poly_dy(self, powerx, powery, x, y):\n",
    "        if powery < 1:\n",
    "            return 0.0\n",
    "        else:\n",
    "            return powery * self.poly(powerx, powery-1, x, y)\n",
    "            \n",
    "    def zernikePoly(self, i, x, y):\n",
    "        switcher={\n",
    "                1: self.poly(0, 0, x, y),\n",
    "                2: self.poly(0, 1, x, y),\n",
    "                3: self.poly(1, 0, x, y),\n",
    "                4: 2*self.poly(1, 1, x, y),\n",
    "                5: 1 + 2*self.poly(0, 2, x, y) + 2*self.poly(2, 0, x, y), # 1 + 2*x^2 + 2*y^2 \n",
    "                6: self.poly(1, 1, x, y),\n",
    "                7: -3*self.poly(3,0,x,y) + 3*self.poly(1,2,x,y), # Z(3,0) = -x3 + 3xy2\n",
    "                8: -2*self.poly(0,1,x,y) + 3*self.poly(0,3,x,y) + 3*self.poly(2,1,x,y),\t# Z(3,1) = -2x + 3x3 + 3xy2 ((0),(-2,0),(0,0,0),(3,0,3,0))\n",
    "                9: -2*self.poly(1,0,x,y) + 3*self.poly(3,0,x,y) + 3*self.poly(1,2,x,y), #  Z(3,2) = -2y + 3y3 + 3x2y ((0),(0,-2),(0,0,0),(0,3,0,3))\n",
    "                10:   self.poly(3,0,x,y) - 3*self.poly(1,2,x,y), #  Z(3,3) = y3 - 3x2y ((0),(0,0),(0,0,0),(0,-3,0,1))\n",
    "                11: -4*self.poly(1,3,x,y) + 4*self.poly(3,1,x,y), #  Z(4,0) = -4x3y + 4xy3 ((0),(0,0),(0,0,0),(0,0,0,0),(0,-4,0,4,0))\n",
    "                12: -6*self.poly(1,1,x,y) + 8*self.poly(1,3,x,y) + 8*self.poly(3,1,x,y), #  Z(4,1) = -6xy + 8x3y + 8xy3 ((0),(0,0),(0,-6,0),(0,0,0,0),(0,8,0,8,0))\n",
    "                13: self.poly(0,0,x,y) - 6*self.poly(0,2,x,y) - 6*self.poly(2,0,x,y)+6*self.poly(0,4,x,y)+12*self.poly(2,2,x,y)+6*self.poly(4,0,x,y), #  Z(4,2) = 1 - 6x2 - 6y2 + 6x4 + 12x2y2 + 6y4 ((1),(0,0),(-6,0,-6),(0,0,0,0),(6,0,12,0,6))\n",
    "                14: 3*self.poly(0,2,x,y) - 3*self.poly(2,0,x,y) - 4*self.poly(0,4,x,y)+4*self.poly(4,0,x,y), #  Z(4,3) = 3x2 - 3y2 - 4x4 + 4y4 ((0),(0,0),(3,0,-3),(0,0,0,0),(-4,0,0,0,4))\n",
    "                15: self.poly(0,4,x,y) - 6*self.poly(2,2,x,y) + self.poly(4,0,x,y), #  Z(4,4) = x4 - 6x2y2 + y4 ((0),(0,0),(0,0,0),(0,0,0,0),(1,0,-6,0,1))\n",
    "                16:   self.poly(0,5,x,y) - 10*self.poly(2,3,x,y) + 5*self.poly(4,1,x,y), #  Z(5,0) = x5 - 10x3y2 + 5xy4\n",
    "                17:  4*self.poly(0,3,x,y) - 12*self.poly(2,1,x,y) - 5*self.poly(0,5,x,y)+10*self.poly(2,3,x,y)+15*self.poly(4,1,x,y), # Z(5,1) = 4x3 - 12xy2 - 5x5 + 10x3y2 + 15xy4\n",
    "                18:  3*self.poly(0,1,x,y) - 12*self.poly(0,3,x,y) - 12*self.poly(2,1,x,y)+10*self.poly(0,5,x,y) + 20*self.poly(2,3,x,y) + 10*self.poly(4,1,x,y), # Z(5,2) = 3x - 12x3 - 12xy2 + 10x5 + 20x3y2 + 10xy4\n",
    "                19:  3*self.poly(1,0,x,y) - 12*self.poly(3,0,x,y) - 12*self.poly(1,2,x,y)+10*self.poly(5,0,x,y)+20*self.poly(3,2,x,y)+10*self.poly(1,4,x,y), # Z(5,3) = 3y - 12y3 - 12x2y + 10y5 + 20x2y3 + 10x4y\n",
    "                20: -4*self.poly(3,0,x,y) + 12*self.poly(1,2,x,y) + 5*self.poly(5,0,x,y)-10*self.poly(3,2,x,y)-15*self.poly(1,4,x,y), # Z(5,4) = -4y3 + 12x2y + 5y5 - 10x2y3 - 15x4y\n",
    "                21:   self.poly(5,0,x,y)-10*self.poly(3,2,x,y)+5*self.poly(1,4,x,y), # Z(5,5) = y5 - 10x2y3 + 5x4y\n",
    "             }\n",
    "        zPoly = switcher.get(i, \"Invalid Zernike Index\")\n",
    "        return zPoly #switcher.get(i,\"Invalid Zernike index\")\n",
    "\n",
    "order = 2\n",
    "z = Zernike(order, torch.tensor([1, 1], dtype=torch.float32), \n",
    "                   torch.tensor([2, 2], dtype=torch.float32))\n",
    "\n",
    "#print(z.zernikePoly(21, torch.tensor([2,2], requires_grad=True, 3))"
   ]
  },
  {
   "cell_type": "code",
   "execution_count": 40,
   "metadata": {},
   "outputs": [
    {
     "name": "stdout",
     "output_type": "stream",
     "text": [
      "tensor([27.], grad_fn=<AddBackward0>)\n",
      "tensor([8.]) tensor([12.])\n",
      "tensor([6.], grad_fn=<MulBackward0>)\n",
      "tensor([11.]) tensor([14.])\n"
     ]
    }
   ],
   "source": [
    "xten = torch.tensor([2], dtype=torch.float32, requires_grad=True)\n",
    "yten = torch.tensor([3], dtype=torch.float32, requires_grad=True)\n",
    "#for i in range(5):\n",
    "zPoly = z.zernikePoly(5, xten, yten)\n",
    "zPoly.backward()\n",
    "print(zPoly)\n",
    "print(xten.grad, yten.grad)\n",
    "\n",
    "zPoly = z.zernikePoly(6, xten, yten)\n",
    "zPoly.backward()\n",
    "print(zPoly)\n",
    "print(xten.grad, yten.grad)"
   ]
  },
  {
   "cell_type": "code",
   "execution_count": 38,
   "metadata": {},
   "outputs": [
    {
     "name": "stdout",
     "output_type": "stream",
     "text": [
      "1.0 tensor([0.]) tensor([0.])\n",
      "3.0 tensor([0.]) tensor([1.])\n",
      "2.0 tensor([1.]) tensor([0.])\n",
      "12.0 tensor([6.]) tensor([4.])\n",
      "27.0 tensor([8.]) tensor([12.])\n"
     ]
    }
   ],
   "source": [
    "for i in range(5):\n",
    "    zPoly = z.zernikePoly(i+1, xten, yten)\n",
    "    zPoly.backward()\n",
    "    \n",
    "    print(zPoly.item(), xten.grad, yten.grad)\n",
    "    xten.grad.zero_()\n",
    "    yten.grad.zero_()"
   ]
  },
  {
   "cell_type": "code",
   "execution_count": 23,
   "metadata": {},
   "outputs": [],
   "source": [
    "x = torch.tensor([2], dtype=torch.float32, requires_grad=True)\n",
    "y = torch.tensor([3], dtype=torch.float32, requires_grad=True)\n",
    "z = (x*x) + (y*y)"
   ]
  },
  {
   "cell_type": "code",
   "execution_count": 24,
   "metadata": {},
   "outputs": [],
   "source": [
    "z.backward()"
   ]
  },
  {
   "cell_type": "code",
   "execution_count": 33,
   "metadata": {},
   "outputs": [
    {
     "name": "stdout",
     "output_type": "stream",
     "text": [
      "dz/dx=4.00, dz/dy=6.00\n"
     ]
    }
   ],
   "source": []
  },
  {
   "cell_type": "code",
   "execution_count": 40,
   "metadata": {},
   "outputs": [
    {
     "data": {
      "text/plain": [
       "array([2.], dtype=float32)"
      ]
     },
     "execution_count": 40,
     "metadata": {},
     "output_type": "execute_result"
    }
   ],
   "source": [
    "xx = x.detach().numpy()\n",
    "xx"
   ]
  },
  {
   "cell_type": "code",
   "execution_count": 51,
   "metadata": {},
   "outputs": [],
   "source": [
    "A = torch.randn((3,5))\n",
    "b = torch.randn(3)\n",
    "\n",
    "x = torch.linalg.solve(A@A.transpose(0,1), b)"
   ]
  },
  {
   "cell_type": "code",
   "execution_count": 54,
   "metadata": {},
   "outputs": [
    {
     "name": "stdout",
     "output_type": "stream",
     "text": [
      "(tensor([-1.2310, -0.4170,  1.0353]), tensor([-1.2310, -0.4170,  1.0353]))\n"
     ]
    }
   ],
   "source": [
    "print((A@A.transpose(0,1)@x, b))"
   ]
  },
  {
   "cell_type": "code",
   "execution_count": 1,
   "metadata": {},
   "outputs": [
    {
     "data": {
      "text/plain": [
       "'Wednesday'"
      ]
     },
     "execution_count": 1,
     "metadata": {},
     "output_type": "execute_result"
    }
   ],
   "source": [
    "def week(i, x, y):\n",
    "    switcher={\n",
    "        0:'Sunday',\n",
    "        1:'Monday',\n",
    "        2:'Tuesday',\n",
    "        3:'Wednesday',\n",
    "        4:'Thursday',\n",
    "        5:'Friday',\n",
    "        6:'Saturday'\n",
    "         }\n",
    "    return switcher.get(i,\"Invalid day of week\")\n",
    "    \n",
    "week(3, 1, 2)"
   ]
  },
  {
   "cell_type": "code",
   "execution_count": 2,
   "metadata": {},
   "outputs": [],
   "source": [
    "from torchvision import models"
   ]
  },
  {
   "cell_type": "code",
   "execution_count": null,
   "metadata": {},
   "outputs": [],
   "source": []
  }
 ],
 "metadata": {
  "interpreter": {
   "hash": "54221914778d2fd60799de15d67afad1dca56b576cbba0978b53f36bb0a30fec"
  },
  "kernelspec": {
   "display_name": "pytorch",
   "language": "python",
   "name": "python3"
  },
  "language_info": {
   "codemirror_mode": {
    "name": "ipython",
    "version": 3
   },
   "file_extension": ".py",
   "mimetype": "text/x-python",
   "name": "python",
   "nbconvert_exporter": "python",
   "pygments_lexer": "ipython3",
   "version": "3.9.9"
  }
 },
 "nbformat": 4,
 "nbformat_minor": 4
}
