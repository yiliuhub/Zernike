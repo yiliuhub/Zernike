{
 "cells": [
  {
   "cell_type": "code",
   "execution_count": 1,
   "metadata": {},
   "outputs": [],
   "source": [
    "import numpy as np\n",
    "import torch"
   ]
  },
  {
   "cell_type": "code",
   "execution_count": 87,
   "metadata": {},
   "outputs": [
    {
     "name": "stdout",
     "output_type": "stream",
     "text": [
      "6\n"
     ]
    },
    {
     "name": "stderr",
     "output_type": "stream",
     "text": [
      "C:\\Users\\Yi\\AppData\\Local\\Temp/ipykernel_23880/824153639.py:6: UserWarning: To copy construct from a tensor, it is recommended to use sourceTensor.clone().detach() or sourceTensor.clone().detach().requires_grad_(True), rather than torch.tensor(sourceTensor).\n",
      "  self.locxy = torch.tensor(locxy, dtype=torch.float32, requires_grad=True)\n",
      "C:\\Users\\Yi\\AppData\\Local\\Temp/ipykernel_23880/824153639.py:7: UserWarning: To copy construct from a tensor, it is recommended to use sourceTensor.clone().detach() or sourceTensor.clone().detach().requires_grad_(True), rather than torch.tensor(sourceTensor).\n",
      "  self.deltaxy = torch.tensor(deltaxy, dtype=torch.float32, requires_grad=True)\n"
     ]
    }
   ],
   "source": [
    "class Zernike:\n",
    "    def __init__(self, order=6, \n",
    "                 locxy=torch.tensor([], dtype=torch.float32, requires_grad=True), \n",
    "                 deltaxy=torch.tensor([], dtype=torch.float32, requires_grad=True)):\n",
    "        self.order = order \n",
    "        self.locxy = torch.tensor(locxy, dtype=torch.float32, requires_grad=True)\n",
    "        self.deltaxy = torch.tensor(deltaxy, dtype=torch.float32, requires_grad=True)\n",
    "\n",
    "    def monoterm(self, powerx, powery, x, y):\n",
    "        return (x**powerx) * (y**powery)\n",
    "    \n",
    "    def zernikePoly(self, i, x, y):\n",
    "        switcher={\n",
    "                1: self.monoterm(0, 0, x, y),\n",
    "                2: self.monoterm(0, 1, x, y),\n",
    "                3: self.monoterm(1, 0, x, y),\n",
    "                4: 2*self.monoterm(1, 1, x, y),\n",
    "                5: -self.monoterm(0, 0, x, y) + 2*self.monoterm(0, 2, x, y) + 2*self.monoterm(2, 0, x, y)\n",
    "                6: self.monoterm(1, 1, x, y),\n",
    "                7: self.monoterm(1, 1, x, y),\n",
    "            case 1:  Z_k = Poly(0,0,x, y);\n",
    "            case 2:\t Z_k = Poly(0,1, x, y);\n",
    "            case 3:  Z_k = Poly(1,0, x, y);\n",
    "            case 4:  Z_k = (2*Poly(1,1,x,y));\t//Z(2,0) = 2xy\n",
    "case 5:  Z_k = (-Poly(0,0,x,y)+2*Poly(0,2,x,y)+2*Poly(2,0,x,y));\t//Z(2,1) = 1+2x2 + 2y2\n",
    "\t\tbreak;\n",
    "\tcase 6:  Z_k = (-Poly(0,2,x,y)+Poly(2,0,x,y));\t//Z(2,2) = -x2 + y2\n",
    "\t\tbreak;\n",
    "\tcase 7:  Z_k = (-Poly(0,3,x,y)+3*Poly(2,1,x,y));// Z(3,0) = -x3 + 3xy2\n",
    "\t\tbreak;\n",
    "\tcase 8:  Z_k = (-2*Poly(0,1,x,y)+3*Poly(0,3,x,y)+3*Poly(2,1,x,y));\t// Z(3,1) = -2x + 3x3 + 3xy2 ((0),(-2,0),(0,0,0),(3,0,3,0))\n",
    "\t\tbreak;\n",
    "\tcase 9:  Z_k = (-2*Poly(1,0,x,y)+3*Poly(3,0,x,y)+3*Poly(1,2,x,y));// Z(3,2) = -2y + 3y3 + 3x2y ((0),(0,-2),(0,0,0),(0,3,0,3))\n",
    "\t\tbreak;\n",
    "\tcase 10: Z_k = (Poly(3,0,x,y)-3*Poly(1,2,x,y));// Z(3,3) = y3 - 3x2y ((0),(0,0),(0,0,0),(0,-3,0,1))\n",
    "\t\tbreak;\n",
    "\tcase 11: Z_k = (-4*Poly(1,3,x,y)+4*Poly(3,1,x,y));// Z(4,0) = -4x3y + 4xy3 ((0),(0,0),(0,0,0),(0,0,0,0),(0,-4,0,4,0))\n",
    "\t\t\tbreak;\t\n",
    "\tcase 12: Z_k = (-6*Poly(1,1,x,y)+8*Poly(1,3,x,y)+8*Poly(3,1,x,y));// Z(4,1) = -6xy + 8x3y + 8xy3 ((0),(0,0),(0,-6,0),(0,0,0,0),(0,8,0,8,0))\n",
    "\t\t\tbreak;\t\n",
    "\tcase 13: Z_k = (Poly(0,0,x,y)-6*Poly(0,2,x,y)-6*Poly(2,0,x,y)+6*Poly(0,4,x,y)+12*Poly(2,2,x,y)+6*Poly(4,0,x,y));// Z(4,2) = 1 - 6x2 - 6y2 + 6x4 + 12x2y2 + 6y4 ((1),(0,0),(-6,0,-6),(0,0,0,0),(6,0,12,0,6))\n",
    "\t\t\tbreak;\t\n",
    "\tcase 14: Z_k = (3*Poly(0,2,x,y)-3*Poly(2,0,x,y)-4*Poly(0,4,x,y)+4*Poly(4,0,x,y));// Z(4,3) = 3x2 - 3y2 - 4x4 + 4y4 ((0),(0,0),(3,0,-3),(0,0,0,0),(-4,0,0,0,4))\n",
    "\t\t\tbreak;\t\n",
    "\tcase 15: Z_k = (Poly(0,4,x,y)-6*Poly(2,2,x,y)+Poly(4,0,x,y));// Z(4,4) = x4 - 6x2y2 + y4 ((0),(0,0),(0,0,0),(0,0,0,0),(1,0,-6,0,1))\n",
    "\t\t\tbreak;\n",
    "\tcase 16: Z_k = (   Poly(0,5,x,y)-10*Poly(2,3,x,y)+5*Poly(4,1,x,y));// Z(5,0) = x5 - 10x3y2 + 5xy4\n",
    "\t\t\tbreak;\t\n",
    "\tcase 17: Z_k = ( 4*Poly(0,3,x,y)-12*Poly(2,1,x,y)-5*Poly(0,5,x,y)+10*Poly(2,3,x,y)+15*Poly(4,1,x,y));//Z(5,1) = 4x3 - 12xy2 - 5x5 + 10x3y2 + 15xy4\n",
    "\t\t\tbreak;\n",
    "\tcase 18: Z_k = ( 3*Poly(0,1,x,y)-12*Poly(0,3,x,y)-12*Poly(2,1,x,y)+10*Poly(0,5,x,y) + 20*Poly(2,3,x,y) + 10*Poly(4,1,x,y));//Z(5,2) = 3x - 12x3 - 12xy2 + 10x5 + 20x3y2 + 10xy4\n",
    "\t\t\tbreak;\t\n",
    "\tcase 19: Z_k = ( 3*Poly(1,0,x,y)-12*Poly(3,0,x,y)-12*Poly(1,2,x,y)+10*Poly(5,0,x,y)+20*Poly(3,2,x,y)+10*Poly(1,4,x,y));//Z(5,3) = 3y - 12y3 - 12x2y + 10y5 + 20x2y3 + 10x4y\n",
    "\t\t\tbreak;\t\n",
    "\tcase 20: Z_k = (-4*Poly(3,0,x,y)+12*Poly(1,2,x,y)+5*Poly(5,0,x,y)-10*Poly(3,2,x,y)-15*Poly(1,4,x,y));//Z(5,4) = -4y3 + 12x2y + 5y5 - 10x2y3 - 15x4y\n",
    "\t\t\tbreak;\t\n",
    "\tcase 21: Z_k = (   Poly(5,0,x,y)-10*Poly(3,2,x,y)+5*Poly(1,4,x,y));//Z(5,5) = y5 - 10x2y3 + 5x4y\n",
    "\t\t\tbreak;\t\n",
    "            \n",
    "            \n",
    "             }\n",
    "        return switcher.get(i,\"Invalid day of week\")\n",
    "\n",
    "order = 2\n",
    "z = Zernike(order, torch.tensor([1], dtype=torch.float32), \n",
    "                   torch.tensor([2], dtype=torch.float32))\n",
    "\n",
    "print(z.zernikePoly(3, 2, 3))"
   ]
  },
  {
   "cell_type": "code",
   "execution_count": 23,
   "metadata": {},
   "outputs": [],
   "source": [
    "x = torch.tensor([2], dtype=torch.float32, requires_grad=True)\n",
    "y = torch.tensor([3], dtype=torch.float32, requires_grad=True)\n",
    "\n",
    "z = (x*x) + (y*y)"
   ]
  },
  {
   "cell_type": "code",
   "execution_count": 24,
   "metadata": {},
   "outputs": [],
   "source": [
    "z.backward()"
   ]
  },
  {
   "cell_type": "code",
   "execution_count": 33,
   "metadata": {},
   "outputs": [
    {
     "name": "stdout",
     "output_type": "stream",
     "text": [
      "dz/dx=4.00, dz/dy=6.00\n"
     ]
    }
   ],
   "source": [
    "xx = 2\n",
    "print(f'dz/dx={x.grad.item():.2f}, dz/dy={y.grad.item():.2f}')"
   ]
  },
  {
   "cell_type": "code",
   "execution_count": 40,
   "metadata": {},
   "outputs": [
    {
     "data": {
      "text/plain": [
       "array([2.], dtype=float32)"
      ]
     },
     "execution_count": 40,
     "metadata": {},
     "output_type": "execute_result"
    }
   ],
   "source": [
    "xx = x.detach().numpy()\n",
    "xx"
   ]
  },
  {
   "cell_type": "code",
   "execution_count": 51,
   "metadata": {},
   "outputs": [],
   "source": [
    "A = torch.randn((3,5))\n",
    "b = torch.randn(3)\n",
    "\n",
    "x = torch.linalg.solve(A@A.transpose(0,1), b)"
   ]
  },
  {
   "cell_type": "code",
   "execution_count": 54,
   "metadata": {},
   "outputs": [
    {
     "name": "stdout",
     "output_type": "stream",
     "text": [
      "(tensor([-1.2310, -0.4170,  1.0353]), tensor([-1.2310, -0.4170,  1.0353]))\n"
     ]
    }
   ],
   "source": [
    "print((A@A.transpose(0,1)@x, b))"
   ]
  },
  {
   "cell_type": "code",
   "execution_count": 57,
   "metadata": {},
   "outputs": [
    {
     "data": {
      "text/plain": [
       "tensor([])"
      ]
     },
     "execution_count": 57,
     "metadata": {},
     "output_type": "execute_result"
    }
   ],
   "source": [
    "x=torch.tensor([])\n",
    "x"
   ]
  },
  {
   "cell_type": "code",
   "execution_count": 58,
   "metadata": {},
   "outputs": [
    {
     "data": {
      "text/plain": [
       "torch.Size([0])"
      ]
     },
     "execution_count": 58,
     "metadata": {},
     "output_type": "execute_result"
    }
   ],
   "source": [
    "x.shape"
   ]
  },
  {
   "cell_type": "code",
   "execution_count": 61,
   "metadata": {},
   "outputs": [
    {
     "data": {
      "text/plain": [
       "'Monday'"
      ]
     },
     "execution_count": 61,
     "metadata": {},
     "output_type": "execute_result"
    }
   ],
   "source": [
    "def week(i, x, y):\n",
    "    switcher={\n",
    "        0:'Sunday',\n",
    "        1:'Monday',\n",
    "        2:'Tuesday',\n",
    "        3:'Wednesday',\n",
    "        4:'Thursday',\n",
    "        5:'Friday',\n",
    "        6:'Saturday'\n",
    "         }\n",
    "    return switcher.get(i,\"Invalid day of week\")\n",
    "    \n",
    "week(1, 1, 2)"
   ]
  }
 ],
 "metadata": {
  "kernelspec": {
   "display_name": "pytorch",
   "language": "python",
   "name": "pytorch"
  },
  "language_info": {
   "codemirror_mode": {
    "name": "ipython",
    "version": 3
   },
   "file_extension": ".py",
   "mimetype": "text/x-python",
   "name": "python",
   "nbconvert_exporter": "python",
   "pygments_lexer": "ipython3",
   "version": "3.9.9"
  }
 },
 "nbformat": 4,
 "nbformat_minor": 4
}
